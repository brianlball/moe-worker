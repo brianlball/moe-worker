{
 "metadata": {
  "name": "",
  "signature": "sha256:225e8992def7fab9a1bf0e5de1a892a4dc5bf9320f24b8f07353b8672d06810f"
 },
 "nbformat": 3,
 "nbformat_minor": 0,
 "worksheets": [
  {
   "cells": [
    {
     "cell_type": "markdown",
     "metadata": {},
     "source": [
      "# How to compile and simulate a Modelica model\n",
      "\n",
      "This notebook shows how to\n",
      "\n",
      "1. load a Modelica model\n",
      "2. compile the model\n",
      "3. run a single simulation\n",
      "4. change the model parameters and simulate multiple times\n",
      "\n",
      "The source code of the model is\n",
      "\n",
      "```\n",
      "model HelloWorld  \"The simplest differential equation ever\"\n",
      "  Real x\n",
      "   \"The unknown variable\";\n",
      "  constant Real a = -2.0\n",
      "   \"Constant that characterizes the model\";\n",
      "  parameter Real x_start = 5.0\n",
      "   \"Initial value of the variable x\";\n",
      "initial equation\n",
      "   // Define initial conditions here...\n",
      "   x = x_start;\n",
      "equation\n",
      "   // Write the equations here...\n",
      "   der(x) = a*x;\n",
      "end HelloWorld;\n",
      "```\n",
      "\n",
      "and it's locatios is the repository [ModelicaInAction](https://github.com/mbonvini/ModelicaInAction) is `ModelicaInAction/modelica/HelloWorld.mo`.\n",
      "\n",
      "When starting the docker container using the command `make start`\n",
      "\n",
      "```\n",
      "# Excerpt from ModelicaInAction/Makefile\n",
      "\n",
      "start: ## Starts the container in detached mode and exposes an ipython notebook server listening on port 8888.\n",
      "        docker run -d -v $(shell pwd)/modelica:/home/docker/modelica \\\n",
      "        -v $(shell pwd)/ipynotebooks:/home/docker/ipynotebooks \\\n",
      "        -p 127.0.0.1:8888:8888 jmodelica:1.0 \\\n",
      "        sh -c 'ipython notebook --no-browser --matplotlib=inline --ip=0.0.0.0 --port=8888 --notebook-dir=/home/docker/ipynotebooks'\n",
      "\n",
      "```\n",
      "\n",
      "the option `-v $(shell pwd)/modelica:/home/docker/modelica` attaches the folder\n",
      "`ModelicaInAction/modelica/` to the folder `/home/docker/modelica` inside the container.\n",
      "\n",
      "In this way we can modify/create Modelica files on the host, compile and simulate them on the guest (the docker container)."
     ]
    },
    {
     "cell_type": "code",
     "collapsed": false,
     "input": [
      "from pymodelica import compile_fmu\n",
      "from pyfmi import load_fmu\n",
      "from pylab import rcParams\n",
      "rcParams['figure.figsize'] = 12, 6\n",
      "from matplotlib import pyplot as plt\n",
      "import numpy as np"
     ],
     "language": "python",
     "metadata": {},
     "outputs": [],
     "prompt_number": 1
    },
    {
     "cell_type": "markdown",
     "metadata": {},
     "source": [
      "### Load and compile the model"
     ]
    },
    {
     "cell_type": "code",
     "collapsed": false,
     "input": [
      "# Specify Modelica model and model file (.mo or .mop)\n",
      "model_name = 'HelloWorld'\n",
      "mo_file = '/home/docker/modelica/HelloWorld.mo'\n",
      "\n",
      "# Compile the model and save the return argument, which is the file name of the FMU\n",
      "my_fmu = compile_fmu(model_name, mo_file)"
     ],
     "language": "python",
     "metadata": {},
     "outputs": [],
     "prompt_number": 2
    },
    {
     "cell_type": "markdown",
     "metadata": {},
     "source": [
      "JModelica.org starts by opening the Modelica model named **HelloWorld** located in file `/home/docker/modelica/HelloWorld.mo`.\n",
      "Once the `.mo` file is loaded JModelica.org parses and compiles it. The result of the compilation\n",
      "is an FMU file.\n",
      "\n",
      "An FMU (Functional Mock-up Unit) is a file  compliant with the Functional Mock-up Interface (FMI).\n",
      "FMI is a tool independent standard to support both model exchange and co-simulation of dynamic\n",
      "models using a combination of xml-files and compiled C-code.\n",
      "\n",
      "Long story short, JModelica.org generates C-code and an xml representation of the model. Both the C-code and the xml-files are packaged inside the FMU."
     ]
    },
    {
     "cell_type": "markdown",
     "metadata": {},
     "source": [
      "### Simulate the model\n",
      "\n",
      "We can now use JModelica to load the files contained in the FMU and simulate the model."
     ]
    },
    {
     "cell_type": "code",
     "collapsed": false,
     "input": [
      "# Load the model and simulate\n",
      "hello_world = load_fmu(my_fmu)\n",
      "res = hello_world.simulate(final_time=5.0)"
     ],
     "language": "python",
     "metadata": {},
     "outputs": [
      {
       "output_type": "stream",
       "stream": "stdout",
       "text": [
        "Final Run Statistics: HelloWorld \n",
        "\n",
        " Number of steps                                 : 60\n",
        " Number of function evaluations                  : 78\n",
        " Number of Jacobian evaluations                  : 2\n",
        " Number of function eval. due to Jacobian eval.  : 2\n",
        " Number of error test failures                   : 2\n",
        " Number of nonlinear iterations                  : 74\n",
        " Number of nonlinear convergence failures        : 0\n",
        "\n",
        "Solver options:\n",
        "\n",
        " Solver                   : CVode\n",
        " Linear multistep method  : BDF\n",
        " Nonlinear solver         : Newton\n",
        " Linear solver type       : DENSE\n",
        " Maximal order            : 5\n",
        " Tolerances (absolute)    : 1e-06\n",
        " Tolerances (relative)    : 0.0001\n",
        "\n",
        "Simulation interval    : 0.0 - 5.0 seconds.\n",
        "Elapsed simulation time: 0.008998 seconds.\n"
       ]
      }
     ],
     "prompt_number": 3
    },
    {
     "cell_type": "code",
     "collapsed": false,
     "input": [
      "plt.plot(res[\"time\"], res['x'], label=\"$x(t)$\")\n",
      "plt.xlabel(\"Time [s]\")\n",
      "plt.ylabel(\"State variable x\")\n",
      "plt.legend()"
     ],
     "language": "python",
     "metadata": {},
     "outputs": [
      {
       "metadata": {},
       "output_type": "pyout",
       "prompt_number": 4,
       "text": [
        "<matplotlib.legend.Legend at 0x7f5633fff0d0>"
       ]
      },
      {
       "metadata": {},
       "output_type": "display_data",
       "png": "[encoded data removed]",
       "text": [
        "<matplotlib.figure.Figure at 0x7f5633fff110>"
       ]
      }
     ],
     "prompt_number": 4
    },
    {
     "cell_type": "markdown",
     "metadata": {},
     "source": [
      "### Change a parameter and simulate multiple times\n",
      "\n",
      "The model has a parameter called `x_init` that is the initial value of the state variable `x` at the beginning of the simulation time.\n",
      "We'll now run multiple simulations that start from different initial conditions.\n",
      "\n",
      "The model has already been simulated, therefore in order to run a new simulation we need to reset the model.\n",
      "To reset the model we use the `reset()` method\n",
      "\n",
      "```python\n",
      "hello_world.reset()\n",
      "```\n",
      "\n",
      "To change the value of a parameter we use the `set()` method\n",
      "\n",
      "```python\n",
      "hello_world.set(<PARAMETER_NAME>, <NEW_VALUE>)\n",
      "```"
     ]
    },
    {
     "cell_type": "code",
     "collapsed": false,
     "input": [
      "x_init = np.linspace(5.0, 10.0, 10)\n",
      "results = []\n",
      "for xi in x_init:\n",
      "    hello_world.reset()\n",
      "    hello_world.set(\"x_start\", xi)\n",
      "    results.append(hello_world.simulate(final_time=5.0))"
     ],
     "language": "python",
     "metadata": {},
     "outputs": [
      {
       "output_type": "stream",
       "stream": "stdout",
       "text": [
        "Final Run Statistics: HelloWorld \n",
        "\n",
        " Number of steps                                 : 60\n",
        " Number of function evaluations                  : 78\n",
        " Number of Jacobian evaluations                  : 2\n",
        " Number of function eval. due to Jacobian eval.  : 2\n",
        " Number of error test failures                   : 2\n",
        " Number of nonlinear iterations                  : 74\n",
        " Number of nonlinear convergence failures        : 0\n",
        "\n",
        "Solver options:\n",
        "\n",
        " Solver                   : CVode\n",
        " Linear multistep method  : BDF\n",
        " Nonlinear solver         : Newton\n",
        " Linear solver type       : DENSE\n",
        " Maximal order            : 5\n",
        " Tolerances (absolute)    : 1e-06\n",
        " Tolerances (relative)    : 0.0001\n",
        "\n",
        "Simulation interval    : 0.0 - 5.0 seconds.\n",
        "Elapsed simulation time: 0.009559 seconds.\n",
        "Final Run Statistics: HelloWorld "
       ]
      },
      {
       "output_type": "stream",
       "stream": "stdout",
       "text": [
        "\n",
        "\n",
        " Number of steps                                 : 60\n",
        " Number of function evaluations                  : 77\n",
        " Number of Jacobian evaluations                  : 2\n",
        " Number of function eval. due to Jacobian eval.  : 2\n",
        " Number of error test failures                   : 2\n",
        " Number of nonlinear iterations                  : 73\n",
        " Number of nonlinear convergence failures        : 0\n",
        "\n",
        "Solver options:\n",
        "\n",
        " Solver                   : CVode\n",
        " Linear multistep method  : BDF\n",
        " Nonlinear solver         : Newton\n",
        " Linear solver type       : DENSE\n",
        " Maximal order            : 5\n",
        " Tolerances (absolute)    : 1e-06\n",
        " Tolerances (relative)    : 0.0001\n",
        "\n",
        "Simulation interval    : 0.0 - 5.0 seconds.\n",
        "Elapsed simulation time: 0.008975 seconds.\n",
        "Final Run Statistics: HelloWorld "
       ]
      },
      {
       "output_type": "stream",
       "stream": "stdout",
       "text": [
        "\n",
        "\n",
        " Number of steps                                 : 60\n",
        " Number of function evaluations                  : 77\n",
        " Number of Jacobian evaluations                  : 2\n",
        " Number of function eval. due to Jacobian eval.  : 2\n",
        " Number of error test failures                   : 2\n",
        " Number of nonlinear iterations                  : 73\n",
        " Number of nonlinear convergence failures        : 0\n",
        "\n",
        "Solver options:\n",
        "\n",
        " Solver                   : CVode\n",
        " Linear multistep method  : BDF\n",
        " Nonlinear solver         : Newton\n",
        " Linear solver type       : DENSE\n",
        " Maximal order            : 5\n",
        " Tolerances (absolute)    : 1e-06\n",
        " Tolerances (relative)    : 0.0001\n",
        "\n",
        "Simulation interval    : 0.0 - 5.0 seconds.\n",
        "Elapsed simulation time: 0.008889 seconds.\n",
        "Final Run Statistics: HelloWorld "
       ]
      },
      {
       "output_type": "stream",
       "stream": "stdout",
       "text": [
        "\n",
        "\n",
        " Number of steps                                 : 60\n",
        " Number of function evaluations                  : 77\n",
        " Number of Jacobian evaluations                  : 2\n",
        " Number of function eval. due to Jacobian eval.  : 2\n",
        " Number of error test failures                   : 2\n",
        " Number of nonlinear iterations                  : 73\n",
        " Number of nonlinear convergence failures        : 0\n",
        "\n",
        "Solver options:\n",
        "\n",
        " Solver                   : CVode\n",
        " Linear multistep method  : BDF\n",
        " Nonlinear solver         : Newton\n",
        " Linear solver type       : DENSE\n",
        " Maximal order            : 5\n",
        " Tolerances (absolute)    : 1e-06\n",
        " Tolerances (relative)    : 0.0001\n",
        "\n",
        "Simulation interval    : 0.0 - 5.0 seconds.\n",
        "Elapsed simulation time: 0.009097 seconds.\n",
        "Final Run Statistics: HelloWorld "
       ]
      },
      {
       "output_type": "stream",
       "stream": "stdout",
       "text": [
        "\n",
        "\n",
        " Number of steps                                 : 60\n",
        " Number of function evaluations                  : 78\n",
        " Number of Jacobian evaluations                  : 2\n",
        " Number of function eval. due to Jacobian eval.  : 2\n",
        " Number of error test failures                   : 2\n",
        " Number of nonlinear iterations                  : 74\n",
        " Number of nonlinear convergence failures        : 0\n",
        "\n",
        "Solver options:\n",
        "\n",
        " Solver                   : CVode\n",
        " Linear multistep method  : BDF\n",
        " Nonlinear solver         : Newton\n",
        " Linear solver type       : DENSE\n",
        " Maximal order            : 5\n",
        " Tolerances (absolute)    : 1e-06\n",
        " Tolerances (relative)    : 0.0001\n",
        "\n",
        "Simulation interval    : 0.0 - 5.0 seconds.\n",
        "Elapsed simulation time: 0.009719 seconds.\n",
        "Final Run Statistics: HelloWorld "
       ]
      },
      {
       "output_type": "stream",
       "stream": "stdout",
       "text": [
        "\n",
        "\n",
        " Number of steps                                 : 60\n",
        " Number of function evaluations                  : 78\n",
        " Number of Jacobian evaluations                  : 2\n",
        " Number of function eval. due to Jacobian eval.  : 2\n",
        " Number of error test failures                   : 2\n",
        " Number of nonlinear iterations                  : 74\n",
        " Number of nonlinear convergence failures        : 0\n",
        "\n",
        "Solver options:\n",
        "\n",
        " Solver                   : CVode\n",
        " Linear multistep method  : BDF\n",
        " Nonlinear solver         : Newton\n",
        " Linear solver type       : DENSE\n",
        " Maximal order            : 5\n",
        " Tolerances (absolute)    : 1e-06\n",
        " Tolerances (relative)    : 0.0001\n",
        "\n",
        "Simulation interval    : 0.0 - 5.0 seconds.\n",
        "Elapsed simulation time: 0.009016 seconds.\n",
        "Final Run Statistics: HelloWorld "
       ]
      },
      {
       "output_type": "stream",
       "stream": "stdout",
       "text": [
        "\n",
        "\n",
        " Number of steps                                 : 60\n",
        " Number of function evaluations                  : 78\n",
        " Number of Jacobian evaluations                  : 2\n",
        " Number of function eval. due to Jacobian eval.  : 2\n",
        " Number of error test failures                   : 2\n",
        " Number of nonlinear iterations                  : 74\n",
        " Number of nonlinear convergence failures        : 0\n",
        "\n",
        "Solver options:\n",
        "\n",
        " Solver                   : CVode\n",
        " Linear multistep method  : BDF\n",
        " Nonlinear solver         : Newton\n",
        " Linear solver type       : DENSE\n",
        " Maximal order            : 5\n",
        " Tolerances (absolute)    : 1e-06\n",
        " Tolerances (relative)    : 0.0001\n",
        "\n",
        "Simulation interval    : 0.0 - 5.0 seconds.\n",
        "Elapsed simulation time: 0.010334 seconds.\n",
        "Final Run Statistics: HelloWorld "
       ]
      },
      {
       "output_type": "stream",
       "stream": "stdout",
       "text": [
        "\n",
        "\n",
        " Number of steps                                 : 61\n",
        " Number of function evaluations                  : 79\n",
        " Number of Jacobian evaluations                  : 2\n",
        " Number of function eval. due to Jacobian eval.  : 2\n",
        " Number of error test failures                   : 2\n",
        " Number of nonlinear iterations                  : 75\n",
        " Number of nonlinear convergence failures        : 0\n",
        "\n",
        "Solver options:\n",
        "\n",
        " Solver                   : CVode\n",
        " Linear multistep method  : BDF\n",
        " Nonlinear solver         : Newton\n",
        " Linear solver type       : DENSE\n",
        " Maximal order            : 5\n",
        " Tolerances (absolute)    : 1e-06\n",
        " Tolerances (relative)    : 0.0001\n",
        "\n",
        "Simulation interval    : 0.0 - 5.0 seconds.\n",
        "Elapsed simulation time: 0.008977 seconds.\n",
        "Final Run Statistics: HelloWorld "
       ]
      },
      {
       "output_type": "stream",
       "stream": "stdout",
       "text": [
        "\n",
        "\n",
        " Number of steps                                 : 61\n",
        " Number of function evaluations                  : 79\n",
        " Number of Jacobian evaluations                  : 2\n",
        " Number of function eval. due to Jacobian eval.  : 2\n",
        " Number of error test failures                   : 2\n",
        " Number of nonlinear iterations                  : 75\n",
        " Number of nonlinear convergence failures        : 0\n",
        "\n",
        "Solver options:\n",
        "\n",
        " Solver                   : CVode\n",
        " Linear multistep method  : BDF\n",
        " Nonlinear solver         : Newton\n",
        " Linear solver type       : DENSE\n",
        " Maximal order            : 5\n",
        " Tolerances (absolute)    : 1e-06\n",
        " Tolerances (relative)    : 0.0001\n",
        "\n",
        "Simulation interval    : 0.0 - 5.0 seconds.\n",
        "Elapsed simulation time: 0.008874 seconds.\n",
        "Final Run Statistics: HelloWorld "
       ]
      },
      {
       "output_type": "stream",
       "stream": "stdout",
       "text": [
        "\n",
        "\n",
        " Number of steps                                 : 61\n",
        " Number of function evaluations                  : 79\n",
        " Number of Jacobian evaluations                  : 2\n",
        " Number of function eval. due to Jacobian eval.  : 2\n",
        " Number of error test failures                   : 2\n",
        " Number of nonlinear iterations                  : 75\n",
        " Number of nonlinear convergence failures        : 0\n",
        "\n",
        "Solver options:\n",
        "\n",
        " Solver                   : CVode\n",
        " Linear multistep method  : BDF\n",
        " Nonlinear solver         : Newton\n",
        " Linear solver type       : DENSE\n",
        " Maximal order            : 5\n",
        " Tolerances (absolute)    : 1e-06\n",
        " Tolerances (relative)    : 0.0001\n",
        "\n",
        "Simulation interval    : 0.0 - 5.0 seconds.\n",
        "Elapsed simulation time: 0.009068 seconds.\n"
       ]
      }
     ],
     "prompt_number": 5
    },
    {
     "cell_type": "code",
     "collapsed": false,
     "input": [
      "for i, res in enumerate(results):\n",
      "    plt.plot(res[\"time\"], res['x'], 'b', label=\"$x(t)$\" if i==0 else None)\n",
      "plt.xlabel(\"Time [s]\")\n",
      "plt.ylabel(\"State variable x\")\n",
      "plt.legend()"
     ],
     "language": "python",
     "metadata": {},
     "outputs": [
      {
       "metadata": {},
       "output_type": "pyout",
       "prompt_number": 6,
       "text": [
        "<matplotlib.legend.Legend at 0x7f5631060710>"
       ]
      },
      {
       "metadata": {},
       "output_type": "display_data",
       "png": "[encoded data removed]",
       "text": [
        "<matplotlib.figure.Figure at 0x7f563103fd90>"
       ]
      }
     ],
     "prompt_number": 6
    },
    {
     "cell_type": "markdown",
     "metadata": {},
     "source": [
      "### Question: can we change the value of a?\n",
      "\n",
      "No because it's declared as a constant and constants cannot be modified. If we try JModelica.org will give us an error."
     ]
    }
   ],
   "metadata": {}
  }
 ]
}