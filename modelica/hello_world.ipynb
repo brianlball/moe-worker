{
 "cells": [
  {
   "cell_type": "code",
   "execution_count": 1,
   "metadata": {},
   "outputs": [
    {
     "data": {
      "text/plain": [
       "u'/home/developer/modelica'"
      ]
     },
     "execution_count": 1,
     "metadata": {},
     "output_type": "execute_result"
    }
   ],
   "source": [
    "pwd"
   ]
  },
  {
   "cell_type": "code",
   "execution_count": 2,
   "metadata": {},
   "outputs": [
    {
     "name": "stdout",
     "output_type": "stream",
     "text": [
      "HelloWorld.mo  Untitled.ipynb\r\n"
     ]
    }
   ],
   "source": [
    "ls"
   ]
  },
  {
   "cell_type": "code",
   "execution_count": 3,
   "metadata": {},
   "outputs": [],
   "source": [
    "from pymodelica import compile_fmu"
   ]
  },
  {
   "cell_type": "code",
   "execution_count": 4,
   "metadata": {},
   "outputs": [],
   "source": [
    "model_name = 'HelloWorld'\n",
    "mo_file = '/home/developer/modelica/HelloWorld.mo'"
   ]
  },
  {
   "cell_type": "code",
   "execution_count": 5,
   "metadata": {},
   "outputs": [
    {
     "name": "stderr",
     "output_type": "stream",
     "text": [
      "Exception in thread Thread-4:\n",
      "Traceback (most recent call last):\n",
      "  File \"/usr/lib/python2.7/threading.py\", line 801, in __bootstrap_inner\n",
      "    self.run()\n",
      "  File \"/usr/local/JModelica/Python/pymodelica/compiler_logging.py\", line 218, in run\n",
      "    xml.sax.parse(self.stream, LogErrorParser(self.result))\n",
      "  File \"/usr/lib/python2.7/xml/sax/__init__.py\", line 33, in parse\n",
      "    parser.parse(source)\n",
      "  File \"/usr/lib/python2.7/xml/sax/expatreader.py\", line 116, in parse\n",
      "    self._close_source()\n",
      "  File \"/usr/lib/python2.7/xml/sax/expatreader.py\", line 235, in _close_source\n",
      "    file.close()\n",
      "AttributeError: KeepLastStream instance has no attribute 'close'\n",
      "\n"
     ]
    }
   ],
   "source": [
    "my_fmu = compile_fmu (model_name, mo_file)"
   ]
  },
  {
   "cell_type": "code",
   "execution_count": 6,
   "metadata": {},
   "outputs": [],
   "source": [
    "from pyfmi import load_fmu\n",
    "from matplotlib import pyplot as plt"
   ]
  },
  {
   "cell_type": "code",
   "execution_count": 7,
   "metadata": {},
   "outputs": [],
   "source": [
    "hello_world = load_fmu(my_fmu)"
   ]
  },
  {
   "cell_type": "code",
   "execution_count": 8,
   "metadata": {},
   "outputs": [
    {
     "name": "stdout",
     "output_type": "stream",
     "text": [
      "Final Run Statistics: --- \n",
      "\n",
      " Number of steps                                 : 60\n",
      " Number of function evaluations                  : 78\n",
      " Number of Jacobian evaluations                  : 2\n",
      " Number of function eval. due to Jacobian eval.  : 2\n",
      " Number of error test failures                   : 2\n",
      " Number of nonlinear iterations                  : 74\n",
      " Number of nonlinear convergence failures        : 0\n",
      "\n",
      "Solver options:\n",
      "\n",
      " Solver                   : CVode\n",
      " Linear multistep method  : BDF\n",
      " Nonlinear solver         : Newton\n",
      " Linear solver type       : DENSE\n",
      " Maximal order            : 5\n",
      " Tolerances (absolute)    : 1e-06\n",
      " Tolerances (relative)    : 0.0001\n",
      "\n",
      "Simulation interval    : 0.0 - 5.0 seconds.\n",
      "Elapsed simulation time: 0.0124258995056 seconds.\n"
     ]
    }
   ],
   "source": [
    "res = hello_world.simulate(final_time=5)"
   ]
  },
  {
   "cell_type": "code",
   "execution_count": 10,
   "metadata": {},
   "outputs": [
    {
     "data": {
      "text/plain": [
       "[<matplotlib.lines.Line2D at 0x7f32e2409050>]"
      ]
     },
     "execution_count": 10,
     "metadata": {},
     "output_type": "execute_result"
    },
    {
     "data": {
      "image/png": "[encoded data removed]",
      "text/plain": [
       "<matplotlib.figure.Figure at 0x7f32e2b77190>"
      ]
     },
     "metadata": {
      "needs_background": "light"
     },
     "output_type": "display_data"
    }
   ],
   "source": [
    "plt.plot(res[\"time\"],res[\"x\"])"
   ]
  },
  {
   "cell_type": "code",
   "execution_count": null,
   "metadata": {},
   "outputs": [],
   "source": []
  }
 ],
 "metadata": {
  "kernelspec": {
   "display_name": "Python 2",
   "language": "python",
   "name": "python2"
  },
  "language_info": {
   "codemirror_mode": {
    "name": "ipython",
    "version": 2
   },
   "file_extension": ".py",
   "mimetype": "text/x-python",
   "name": "python",
   "nbconvert_exporter": "python",
   "pygments_lexer": "ipython2",
   "version": "2.7.15+"
  }
 },
 "nbformat": 4,
 "nbformat_minor": 2
}
